{
 "cells": [
  {
   "cell_type": "code",
   "execution_count": 1,
   "metadata": {
    "collapsed": true,
    "ExecuteTime": {
     "end_time": "2024-01-26T08:37:11.042183100Z",
     "start_time": "2024-01-26T08:37:10.645973400Z"
    }
   },
   "outputs": [
    {
     "name": "stdout",
     "output_type": "stream",
     "text": [
      "[2-4,6-8, 2-3,4-5, 5-7,7-9, 2-8,3-7, 6-6,4-6, 2-6,4-8]\r\n"
     ]
    }
   ],
   "source": [
    "import nl.groen.println\n",
    "import kotlin.io.path.Path\n",
    "import kotlin.io.path.readLines\n",
    "\n",
    "val testInput = Path(\"main\\\\kotlin\\\\input\\\\Day04_test.txt\").readLines()\n",
    "\n",
    "testInput.println()"
   ]
  },
  {
   "cell_type": "code",
   "outputs": [
    {
     "name": "stdout",
     "output_type": "stream",
     "text": [
      "[Assignment(line=1, low=2, high=4), Assignment(line=1, low=6, high=8), Assignment(line=2, low=2, high=3), Assignment(line=2, low=4, high=5), Assignment(line=3, low=5, high=7), Assignment(line=3, low=7, high=9), Assignment(line=4, low=2, high=8), Assignment(line=4, low=3, high=7), Assignment(line=5, low=6, high=6), Assignment(line=5, low=4, high=6), Assignment(line=6, low=2, high=6), Assignment(line=6, low=4, high=8)]\r\n"
     ]
    }
   ],
   "source": [
    "import nl.groen.Assignment\n",
    "\n",
    "val cleaningPairs = testInput.flatMapIndexed { index: Int, it: String -> \n",
    "            val (first, second, third, fourth) = it.split(\",\", \"-\").map { s -> s.toInt() }\n",
    "            listOf(Assignment(index+1, first, second), Assignment(index+1, third, fourth))\n",
    "        }\n",
    "\n",
    "cleaningPairs.println()"
   ],
   "metadata": {
    "collapsed": false,
    "ExecuteTime": {
     "end_time": "2024-01-26T08:38:38.183205400Z",
     "start_time": "2024-01-26T08:38:38.001090300Z"
    }
   },
   "execution_count": 9
  },
  {
   "cell_type": "code",
   "outputs": [],
   "source": [
    "%use kandy, dataframe\n"
   ],
   "metadata": {
    "collapsed": false,
    "ExecuteTime": {
     "end_time": "2024-01-26T08:37:18.704831800Z",
     "start_time": "2024-01-26T08:37:11.790749800Z"
    }
   },
   "execution_count": 3
  },
  {
   "cell_type": "code",
   "outputs": [
    {
     "name": "stdout",
     "output_type": "stream",
     "text": [
      "    line low high\n",
      "  0    1   2    4\n",
      "  1    1   6    8\n",
      "  2    2   2    3\n",
      "  3    2   4    5\n",
      "  4    3   5    7\n",
      "  5    3   7    9\n",
      "  6    4   2    8\n",
      "  7    4   3    7\n",
      "  8    5   6    6\n",
      "  9    5   4    6\n",
      " 10    6   2    6\n",
      " 11    6   4    8\n",
      "\r\n"
     ]
    },
    {
     "data": {
      "text/html": "            <iframe src='about:blank' style='border:none !important;' width='600' height='400' srcdoc=\"&lt;html lang=&quot;en&quot;>\n   &lt;head>\n       &lt;style> html, body { margin: 0; overflow: hidden; } &lt;/style>\n       &lt;script type=&quot;text/javascript&quot; data-lets-plot-script=&quot;library&quot; src=&quot;https://cdn.jsdelivr.net/gh/JetBrains/lets-plot@v4.0.1/js-package/distr/lets-plot.min.js&quot;>&lt;/script>\n   &lt;/head>\n   &lt;body>\n          &lt;div id=&quot;twzsS2&quot;>&lt;/div>\n   &lt;script type=&quot;text/javascript&quot; data-lets-plot-script=&quot;plot&quot;>\n       var plotSpec={\n&quot;mapping&quot;:{\n},\n&quot;data&quot;:{\n&quot;high&quot;:[4.0,8.0,3.0,5.0,7.0,9.0,8.0,7.0,6.0,6.0,6.0,8.0],\n&quot;&amp;merged_groups&quot;:[&quot;1&quot;,&quot;1&quot;,&quot;2&quot;,&quot;2&quot;,&quot;3&quot;,&quot;3&quot;,&quot;4&quot;,&quot;4&quot;,&quot;5&quot;,&quot;5&quot;,&quot;6&quot;,&quot;6&quot;],\n&quot;color&quot;:[&quot;A&quot;,&quot;B&quot;,&quot;A&quot;,&quot;B&quot;,&quot;A&quot;,&quot;B&quot;,&quot;A&quot;,&quot;B&quot;,&quot;A&quot;,&quot;B&quot;,&quot;A&quot;,&quot;B&quot;],\n&quot;low&quot;:[2.0,6.0,2.0,4.0,5.0,7.0,2.0,3.0,6.0,4.0,2.0,4.0],\n&quot;line&quot;:[1.0,1.0,2.0,2.0,3.0,3.0,4.0,4.0,5.0,5.0,6.0,6.0]\n},\n&quot;kind&quot;:&quot;plot&quot;,\n&quot;scales&quot;:[{\n&quot;aesthetic&quot;:&quot;y&quot;,\n&quot;limits&quot;:[0.0,10.0]\n},{\n&quot;aesthetic&quot;:&quot;x&quot;,\n&quot;discrete&quot;:true,\n&quot;breaks&quot;:[1.0,2.0,3.0,4.0,5.0,6.0],\n&quot;format&quot;:&quot;d&quot;\n},{\n&quot;aesthetic&quot;:&quot;color&quot;,\n&quot;discrete&quot;:true\n}],\n&quot;layers&quot;:[{\n&quot;mapping&quot;:{\n&quot;x&quot;:&quot;line&quot;,\n&quot;ymin&quot;:&quot;low&quot;,\n&quot;ymax&quot;:&quot;high&quot;,\n&quot;color&quot;:&quot;color&quot;,\n&quot;group&quot;:&quot;&amp;merged_groups&quot;\n},\n&quot;stat&quot;:&quot;identity&quot;,\n&quot;sampling&quot;:&quot;none&quot;,\n&quot;width&quot;:3.0,\n&quot;position&quot;:&quot;dodge&quot;,\n&quot;geom&quot;:&quot;errorbar&quot;,\n&quot;data&quot;:{\n}\n}]\n};\n       var plotContainer = document.getElementById(&quot;twzsS2&quot;);\n       LetsPlot.buildPlotFromProcessedSpecs(plotSpec, -1, -1, plotContainer);\n   &lt;/script>\n   &lt;/body>\n&lt;/html>\"></iframe>            \n        <svg id=0aebc997-d23a-4209-a57c-5288f4f9270a xmlns=\"http://www.w3.org/2000/svg\" xmlns:xlink=\"http://www.w3.org/1999/xlink\" class=\"plt-container\" width=\"600.0\" height=\"400.0\">\n  <style type=\"text/css\">\n  .plt-container {\n   font-family: Lucida Grande, sans-serif;\n   user-select: none;\n   -webkit-user-select: none;\n   -moz-user-select: none;\n   -ms-user-select: none;\n}\ntext {\n   text-rendering: optimizeLegibility;\n}\n#p0itgRr .plot-title {\n   fill: #474747;\n   font-family: Lucida Grande, sans-serif;\n   font-size: 16.0px;\n   font-weight: normal;\n   font-style: normal;   \n}\n#p0itgRr .plot-subtitle {\n   fill: #474747;\n   font-family: Lucida Grande, sans-serif;\n   font-size: 15.0px;\n   font-weight: normal;\n   font-style: normal;   \n}\n#p0itgRr .plot-caption {\n   fill: #474747;\n   font-family: Lucida Grande, sans-serif;\n   font-size: 13.0px;\n   font-weight: normal;\n   font-style: normal;   \n}\n#p0itgRr .legend-title {\n   fill: #474747;\n   font-family: Lucida Grande, sans-serif;\n   font-size: 15.0px;\n   font-weight: normal;\n   font-style: normal;   \n}\n#p0itgRr .legend-item {\n   fill: #474747;\n   font-family: Lucida Grande, sans-serif;\n   font-size: 13.0px;\n   font-weight: normal;\n   font-style: normal;   \n}\n#p0itgRr .axis-title-x {\n   fill: #474747;\n   font-family: Lucida Grande, sans-serif;\n   font-size: 15.0px;\n   font-weight: normal;\n   font-style: normal;   \n}\n#p0itgRr .axis-text-x {\n   fill: #474747;\n   font-family: Lucida Grande, sans-serif;\n   font-size: 13.0px;\n   font-weight: normal;\n   font-style: normal;   \n}\n#dwvoVYW .axis-tooltip-text-x {\n   fill: #ffffff;\n   font-family: Lucida Grande, sans-serif;\n   font-size: 13.0px;\n   font-weight: normal;\n   font-style: normal;   \n}\n#p0itgRr .axis-title-y {\n   fill: #474747;\n   font-family: Lucida Grande, sans-serif;\n   font-size: 15.0px;\n   font-weight: normal;\n   font-style: normal;   \n}\n#p0itgRr .axis-text-y {\n   fill: #474747;\n   font-family: Lucida Grande, sans-serif;\n   font-size: 13.0px;\n   font-weight: normal;\n   font-style: normal;   \n}\n#dwvoVYW .axis-tooltip-text-y {\n   fill: #ffffff;\n   font-family: Lucida Grande, sans-serif;\n   font-size: 13.0px;\n   font-weight: normal;\n   font-style: normal;   \n}\n#p0itgRr .facet-strip-text-x {\n   fill: #474747;\n   font-family: Lucida Grande, sans-serif;\n   font-size: 13.0px;\n   font-weight: normal;\n   font-style: normal;   \n}\n#p0itgRr .facet-strip-text-y {\n   fill: #474747;\n   font-family: Lucida Grande, sans-serif;\n   font-size: 13.0px;\n   font-weight: normal;\n   font-style: normal;   \n}\n#dwvoVYW .tooltip-text {\n   fill: #474747;\n   font-family: Lucida Grande, sans-serif;\n   font-size: 13.0px;\n   font-weight: normal;\n   font-style: normal;   \n}\n#dwvoVYW .tooltip-title {\n   fill: #474747;\n   font-family: Lucida Grande, sans-serif;\n   font-size: 13.0px;\n   font-weight: bold;\n   font-style: normal;   \n}\n#dwvoVYW .tooltip-label {\n   fill: #474747;\n   font-family: Lucida Grande, sans-serif;\n   font-size: 13.0px;\n   font-weight: bold;\n   font-style: normal;   \n}\n\n  </style>\n  <g id=\"p0itgRr\">\n    <path fill-rule=\"evenodd\" fill=\"rgb(255,255,255)\" fill-opacity=\"1.0\" d=\"M0.0 0.0 L0.0 400.0 L600.0 400.0 L600.0 0.0 Z\">\n    </path>\n    <g transform=\"translate(23.0 10.0 ) \">\n      <g transform=\"translate(21.961210910936405 344.0 ) \">\n        <line x1=\"98.29755417352006\" y1=\"-0.0\" x2=\"98.29755417352006\" y2=\"-344.0\" stroke=\"rgb(233,233,233)\" stroke-opacity=\"1.0\" stroke-width=\"1.0\">\n        </line>\n        <line x1=\"156.11964486382598\" y1=\"-0.0\" x2=\"156.11964486382598\" y2=\"-344.0\" stroke=\"rgb(233,233,233)\" stroke-opacity=\"1.0\" stroke-width=\"1.0\">\n        </line>\n        <line x1=\"213.9417355541319\" y1=\"-0.0\" x2=\"213.9417355541319\" y2=\"-344.0\" stroke=\"rgb(233,233,233)\" stroke-opacity=\"1.0\" stroke-width=\"1.0\">\n        </line>\n        <line x1=\"271.76382624443784\" y1=\"-0.0\" x2=\"271.76382624443784\" y2=\"-344.0\" stroke=\"rgb(233,233,233)\" stroke-opacity=\"1.0\" stroke-width=\"1.0\">\n        </line>\n        <line x1=\"329.58591693474375\" y1=\"-0.0\" x2=\"329.58591693474375\" y2=\"-344.0\" stroke=\"rgb(233,233,233)\" stroke-opacity=\"1.0\" stroke-width=\"1.0\">\n        </line>\n        <line x1=\"387.40800762504966\" y1=\"-0.0\" x2=\"387.40800762504966\" y2=\"-344.0\" stroke=\"rgb(233,233,233)\" stroke-opacity=\"1.0\" stroke-width=\"1.0\">\n        </line>\n        <g transform=\"translate(98.29755417352006 0.0 ) \">\n          <line stroke-width=\"1.0\" stroke=\"rgb(71,71,71)\" stroke-opacity=\"1.0\" x2=\"0.0\" y2=\"4.0\">\n          </line>\n          <g transform=\"translate(0.0 7.0 ) \">\n            <text class=\"axis-text-x\" text-anchor=\"middle\" dy=\"0.7em\">\n            1\n            </text>\n          </g>\n        </g>\n        <g transform=\"translate(156.11964486382598 0.0 ) \">\n          <line stroke-width=\"1.0\" stroke=\"rgb(71,71,71)\" stroke-opacity=\"1.0\" x2=\"0.0\" y2=\"4.0\">\n          </line>\n          <g transform=\"translate(0.0 7.0 ) \">\n            <text class=\"axis-text-x\" text-anchor=\"middle\" dy=\"0.7em\">\n            2\n            </text>\n          </g>\n        </g>\n        <g transform=\"translate(213.9417355541319 0.0 ) \">\n          <line stroke-width=\"1.0\" stroke=\"rgb(71,71,71)\" stroke-opacity=\"1.0\" x2=\"0.0\" y2=\"4.0\">\n          </line>\n          <g transform=\"translate(0.0 7.0 ) \">\n            <text class=\"axis-text-x\" text-anchor=\"middle\" dy=\"0.7em\">\n            3\n            </text>\n          </g>\n        </g>\n        <g transform=\"translate(271.76382624443784 0.0 ) \">\n          <line stroke-width=\"1.0\" stroke=\"rgb(71,71,71)\" stroke-opacity=\"1.0\" x2=\"0.0\" y2=\"4.0\">\n          </line>\n          <g transform=\"translate(0.0 7.0 ) \">\n            <text class=\"axis-text-x\" text-anchor=\"middle\" dy=\"0.7em\">\n            4\n            </text>\n          </g>\n        </g>\n        <g transform=\"translate(329.58591693474375 0.0 ) \">\n          <line stroke-width=\"1.0\" stroke=\"rgb(71,71,71)\" stroke-opacity=\"1.0\" x2=\"0.0\" y2=\"4.0\">\n          </line>\n          <g transform=\"translate(0.0 7.0 ) \">\n            <text class=\"axis-text-x\" text-anchor=\"middle\" dy=\"0.7em\">\n            5\n            </text>\n          </g>\n        </g>\n        <g transform=\"translate(387.40800762504966 0.0 ) \">\n          <line stroke-width=\"1.0\" stroke=\"rgb(71,71,71)\" stroke-opacity=\"1.0\" x2=\"0.0\" y2=\"4.0\">\n          </line>\n          <g transform=\"translate(0.0 7.0 ) \">\n            <text class=\"axis-text-x\" text-anchor=\"middle\" dy=\"0.7em\">\n            6\n            </text>\n          </g>\n        </g>\n        <line x1=\"0.0\" y1=\"0.0\" x2=\"485.70556179856976\" y2=\"0.0\" stroke-width=\"1.0\" stroke=\"rgb(71,71,71)\" stroke-opacity=\"1.0\">\n        </line>\n      </g>\n      <g transform=\"translate(21.961210910936405 0.0 ) \">\n        <line x1=\"0.0\" y1=\"328.3636363636364\" x2=\"485.70556179856976\" y2=\"328.3636363636364\" stroke=\"rgb(233,233,233)\" stroke-opacity=\"1.0\" stroke-width=\"1.0\">\n        </line>\n        <line x1=\"0.0\" y1=\"265.8181818181818\" x2=\"485.70556179856976\" y2=\"265.8181818181818\" stroke=\"rgb(233,233,233)\" stroke-opacity=\"1.0\" stroke-width=\"1.0\">\n        </line>\n        <line x1=\"0.0\" y1=\"203.27272727272728\" x2=\"485.70556179856976\" y2=\"203.27272727272728\" stroke=\"rgb(233,233,233)\" stroke-opacity=\"1.0\" stroke-width=\"1.0\">\n        </line>\n        <line x1=\"0.0\" y1=\"140.72727272727275\" x2=\"485.70556179856976\" y2=\"140.72727272727275\" stroke=\"rgb(233,233,233)\" stroke-opacity=\"1.0\" stroke-width=\"1.0\">\n        </line>\n        <line x1=\"0.0\" y1=\"78.18181818181819\" x2=\"485.70556179856976\" y2=\"78.18181818181819\" stroke=\"rgb(233,233,233)\" stroke-opacity=\"1.0\" stroke-width=\"1.0\">\n        </line>\n        <line x1=\"0.0\" y1=\"15.636363636363626\" x2=\"485.70556179856976\" y2=\"15.636363636363626\" stroke=\"rgb(233,233,233)\" stroke-opacity=\"1.0\" stroke-width=\"1.0\">\n        </line>\n        <g transform=\"translate(0.0 328.3636363636364 ) \">\n          <g transform=\"translate(-3.0 0.0 ) \">\n            <text class=\"axis-text-y\" text-anchor=\"end\" dy=\"0.35em\">\n            0\n            </text>\n          </g>\n        </g>\n        <g transform=\"translate(0.0 265.8181818181818 ) \">\n          <g transform=\"translate(-3.0 0.0 ) \">\n            <text class=\"axis-text-y\" text-anchor=\"end\" dy=\"0.35em\">\n            2\n            </text>\n          </g>\n        </g>\n        <g transform=\"translate(0.0 203.27272727272728 ) \">\n          <g transform=\"translate(-3.0 0.0 ) \">\n            <text class=\"axis-text-y\" text-anchor=\"end\" dy=\"0.35em\">\n            4\n            </text>\n          </g>\n        </g>\n        <g transform=\"translate(0.0 140.72727272727275 ) \">\n          <g transform=\"translate(-3.0 0.0 ) \">\n            <text class=\"axis-text-y\" text-anchor=\"end\" dy=\"0.35em\">\n            6\n            </text>\n          </g>\n        </g>\n        <g transform=\"translate(0.0 78.18181818181819 ) \">\n          <g transform=\"translate(-3.0 0.0 ) \">\n            <text class=\"axis-text-y\" text-anchor=\"end\" dy=\"0.35em\">\n            8\n            </text>\n          </g>\n        </g>\n        <g transform=\"translate(0.0 15.636363636363626 ) \">\n          <g transform=\"translate(-3.0 0.0 ) \">\n            <text class=\"axis-text-y\" text-anchor=\"end\" dy=\"0.35em\">\n            10\n            </text>\n          </g>\n        </g>\n      </g>\n      <g transform=\"translate(21.961210910936405 0.0 ) \" clip-path=\"url(#cTwPTat)\" clip-bounds-jfx=\"[rect (0.0, 0.0), (485.70556179856976, 344.0)]\">\n        <defs>\n          <clipPath id=\"cTwPTat\">\n            <rect x=\"0.0\" y=\"0.0\" width=\"485.70556179856976\" height=\"344.0\">\n            </rect>\n          </clipPath>\n        </defs>\n        <g>\n          <line x1=\"11.564418138061171\" y1=\"265.8181818181818\" x2=\"26.01994081063765\" y2=\"265.8181818181818\" stroke=\"rgb(228,26,28)\" stroke-opacity=\"1.0\" fill=\"rgb(17,142,216)\" fill-opacity=\"1.0\" stroke-width=\"1.6500000000000001\">\n          </line>\n          <line x1=\"11.564418138061171\" y1=\"203.27272727272728\" x2=\"26.01994081063765\" y2=\"203.27272727272728\" stroke=\"rgb(228,26,28)\" stroke-opacity=\"1.0\" fill=\"rgb(17,142,216)\" fill-opacity=\"1.0\" stroke-width=\"1.6500000000000001\">\n          </line>\n          <line x1=\"18.79217947434941\" y1=\"265.8181818181818\" x2=\"18.79217947434941\" y2=\"203.27272727272728\" stroke=\"rgb(228,26,28)\" stroke-opacity=\"1.0\" fill=\"rgb(17,142,216)\" fill-opacity=\"1.0\" stroke-width=\"1.6500000000000001\">\n          </line>\n        </g>\n        <g>\n          <line x1=\"26.01994081063765\" y1=\"140.72727272727275\" x2=\"40.475463483214135\" y2=\"140.72727272727275\" stroke=\"rgb(55,126,184)\" stroke-opacity=\"1.0\" fill=\"rgb(17,142,216)\" fill-opacity=\"1.0\" stroke-width=\"1.6500000000000001\">\n          </line>\n          <line x1=\"26.01994081063765\" y1=\"78.18181818181819\" x2=\"40.475463483214135\" y2=\"78.18181818181819\" stroke=\"rgb(55,126,184)\" stroke-opacity=\"1.0\" fill=\"rgb(17,142,216)\" fill-opacity=\"1.0\" stroke-width=\"1.6500000000000001\">\n          </line>\n          <line x1=\"33.24770214692589\" y1=\"140.72727272727275\" x2=\"33.24770214692589\" y2=\"78.18181818181819\" stroke=\"rgb(55,126,184)\" stroke-opacity=\"1.0\" fill=\"rgb(17,142,216)\" fill-opacity=\"1.0\" stroke-width=\"1.6500000000000001\">\n          </line>\n        </g>\n        <g>\n          <line x1=\"98.29755417352006\" y1=\"265.8181818181818\" x2=\"112.75307684609653\" y2=\"265.8181818181818\" stroke=\"rgb(228,26,28)\" stroke-opacity=\"1.0\" fill=\"rgb(17,142,216)\" fill-opacity=\"1.0\" stroke-width=\"1.6500000000000001\">\n          </line>\n          <line x1=\"98.29755417352006\" y1=\"234.54545454545456\" x2=\"112.75307684609653\" y2=\"234.54545454545456\" stroke=\"rgb(228,26,28)\" stroke-opacity=\"1.0\" fill=\"rgb(17,142,216)\" fill-opacity=\"1.0\" stroke-width=\"1.6500000000000001\">\n          </line>\n          <line x1=\"105.5253155098083\" y1=\"265.8181818181818\" x2=\"105.5253155098083\" y2=\"234.54545454545456\" stroke=\"rgb(228,26,28)\" stroke-opacity=\"1.0\" fill=\"rgb(17,142,216)\" fill-opacity=\"1.0\" stroke-width=\"1.6500000000000001\">\n          </line>\n        </g>\n        <g>\n          <line x1=\"112.75307684609653\" y1=\"203.27272727272728\" x2=\"127.20859951867301\" y2=\"203.27272727272728\" stroke=\"rgb(55,126,184)\" stroke-opacity=\"1.0\" fill=\"rgb(17,142,216)\" fill-opacity=\"1.0\" stroke-width=\"1.6500000000000001\">\n          </line>\n          <line x1=\"112.75307684609653\" y1=\"172.0\" x2=\"127.20859951867301\" y2=\"172.0\" stroke=\"rgb(55,126,184)\" stroke-opacity=\"1.0\" fill=\"rgb(17,142,216)\" fill-opacity=\"1.0\" stroke-width=\"1.6500000000000001\">\n          </line>\n          <line x1=\"119.98083818238477\" y1=\"203.27272727272728\" x2=\"119.98083818238477\" y2=\"172.0\" stroke=\"rgb(55,126,184)\" stroke-opacity=\"1.0\" fill=\"rgb(17,142,216)\" fill-opacity=\"1.0\" stroke-width=\"1.6500000000000001\">\n          </line>\n        </g>\n        <g>\n          <line x1=\"185.03069020897894\" y1=\"172.0\" x2=\"199.48621288155542\" y2=\"172.0\" stroke=\"rgb(228,26,28)\" stroke-opacity=\"1.0\" fill=\"rgb(17,142,216)\" fill-opacity=\"1.0\" stroke-width=\"1.6500000000000001\">\n          </line>\n          <line x1=\"185.03069020897894\" y1=\"109.45454545454547\" x2=\"199.48621288155542\" y2=\"109.45454545454547\" stroke=\"rgb(228,26,28)\" stroke-opacity=\"1.0\" fill=\"rgb(17,142,216)\" fill-opacity=\"1.0\" stroke-width=\"1.6500000000000001\">\n          </line>\n          <line x1=\"192.25845154526718\" y1=\"172.0\" x2=\"192.25845154526718\" y2=\"109.45454545454547\" stroke=\"rgb(228,26,28)\" stroke-opacity=\"1.0\" fill=\"rgb(17,142,216)\" fill-opacity=\"1.0\" stroke-width=\"1.6500000000000001\">\n          </line>\n        </g>\n        <g>\n          <line x1=\"199.48621288155542\" y1=\"109.45454545454547\" x2=\"213.9417355541319\" y2=\"109.45454545454547\" stroke=\"rgb(55,126,184)\" stroke-opacity=\"1.0\" fill=\"rgb(17,142,216)\" fill-opacity=\"1.0\" stroke-width=\"1.6500000000000001\">\n          </line>\n          <line x1=\"199.48621288155542\" y1=\"46.909090909090935\" x2=\"213.9417355541319\" y2=\"46.909090909090935\" stroke=\"rgb(55,126,184)\" stroke-opacity=\"1.0\" fill=\"rgb(17,142,216)\" fill-opacity=\"1.0\" stroke-width=\"1.6500000000000001\">\n          </line>\n          <line x1=\"206.71397421784366\" y1=\"109.45454545454547\" x2=\"206.71397421784366\" y2=\"46.909090909090935\" stroke=\"rgb(55,126,184)\" stroke-opacity=\"1.0\" fill=\"rgb(17,142,216)\" fill-opacity=\"1.0\" stroke-width=\"1.6500000000000001\">\n          </line>\n        </g>\n        <g>\n          <line x1=\"271.76382624443784\" y1=\"265.8181818181818\" x2=\"286.2193489170143\" y2=\"265.8181818181818\" stroke=\"rgb(228,26,28)\" stroke-opacity=\"1.0\" fill=\"rgb(17,142,216)\" fill-opacity=\"1.0\" stroke-width=\"1.6500000000000001\">\n          </line>\n          <line x1=\"271.76382624443784\" y1=\"78.18181818181819\" x2=\"286.2193489170143\" y2=\"78.18181818181819\" stroke=\"rgb(228,26,28)\" stroke-opacity=\"1.0\" fill=\"rgb(17,142,216)\" fill-opacity=\"1.0\" stroke-width=\"1.6500000000000001\">\n          </line>\n          <line x1=\"278.99158758072605\" y1=\"265.8181818181818\" x2=\"278.99158758072605\" y2=\"78.18181818181819\" stroke=\"rgb(228,26,28)\" stroke-opacity=\"1.0\" fill=\"rgb(17,142,216)\" fill-opacity=\"1.0\" stroke-width=\"1.6500000000000001\">\n          </line>\n        </g>\n        <g>\n          <line x1=\"286.2193489170143\" y1=\"234.54545454545456\" x2=\"300.6748715895908\" y2=\"234.54545454545456\" stroke=\"rgb(55,126,184)\" stroke-opacity=\"1.0\" fill=\"rgb(17,142,216)\" fill-opacity=\"1.0\" stroke-width=\"1.6500000000000001\">\n          </line>\n          <line x1=\"286.2193489170143\" y1=\"109.45454545454547\" x2=\"300.6748715895908\" y2=\"109.45454545454547\" stroke=\"rgb(55,126,184)\" stroke-opacity=\"1.0\" fill=\"rgb(17,142,216)\" fill-opacity=\"1.0\" stroke-width=\"1.6500000000000001\">\n          </line>\n          <line x1=\"293.4471102533025\" y1=\"234.54545454545456\" x2=\"293.4471102533025\" y2=\"109.45454545454547\" stroke=\"rgb(55,126,184)\" stroke-opacity=\"1.0\" fill=\"rgb(17,142,216)\" fill-opacity=\"1.0\" stroke-width=\"1.6500000000000001\">\n          </line>\n        </g>\n        <g>\n          <line x1=\"358.4969622798967\" y1=\"140.72727272727275\" x2=\"372.9524849524732\" y2=\"140.72727272727275\" stroke=\"rgb(228,26,28)\" stroke-opacity=\"1.0\" fill=\"rgb(17,142,216)\" fill-opacity=\"1.0\" stroke-width=\"1.6500000000000001\">\n          </line>\n          <line x1=\"358.4969622798967\" y1=\"140.72727272727275\" x2=\"372.9524849524732\" y2=\"140.72727272727275\" stroke=\"rgb(228,26,28)\" stroke-opacity=\"1.0\" fill=\"rgb(17,142,216)\" fill-opacity=\"1.0\" stroke-width=\"1.6500000000000001\">\n          </line>\n          <line x1=\"365.7247236161849\" y1=\"140.72727272727275\" x2=\"365.7247236161849\" y2=\"140.72727272727275\" stroke=\"rgb(228,26,28)\" stroke-opacity=\"1.0\" fill=\"rgb(17,142,216)\" fill-opacity=\"1.0\" stroke-width=\"1.6500000000000001\">\n          </line>\n        </g>\n        <g>\n          <line x1=\"372.9524849524732\" y1=\"203.27272727272728\" x2=\"387.40800762504966\" y2=\"203.27272727272728\" stroke=\"rgb(55,126,184)\" stroke-opacity=\"1.0\" fill=\"rgb(17,142,216)\" fill-opacity=\"1.0\" stroke-width=\"1.6500000000000001\">\n          </line>\n          <line x1=\"372.9524849524732\" y1=\"140.72727272727275\" x2=\"387.40800762504966\" y2=\"140.72727272727275\" stroke=\"rgb(55,126,184)\" stroke-opacity=\"1.0\" fill=\"rgb(17,142,216)\" fill-opacity=\"1.0\" stroke-width=\"1.6500000000000001\">\n          </line>\n          <line x1=\"380.1802462887614\" y1=\"203.27272727272728\" x2=\"380.1802462887614\" y2=\"140.72727272727275\" stroke=\"rgb(55,126,184)\" stroke-opacity=\"1.0\" fill=\"rgb(17,142,216)\" fill-opacity=\"1.0\" stroke-width=\"1.6500000000000001\">\n          </line>\n        </g>\n        <g>\n          <line x1=\"445.2300983153556\" y1=\"265.8181818181818\" x2=\"459.68562098793205\" y2=\"265.8181818181818\" stroke=\"rgb(228,26,28)\" stroke-opacity=\"1.0\" fill=\"rgb(17,142,216)\" fill-opacity=\"1.0\" stroke-width=\"1.6500000000000001\">\n          </line>\n          <line x1=\"445.2300983153556\" y1=\"140.72727272727275\" x2=\"459.68562098793205\" y2=\"140.72727272727275\" stroke=\"rgb(228,26,28)\" stroke-opacity=\"1.0\" fill=\"rgb(17,142,216)\" fill-opacity=\"1.0\" stroke-width=\"1.6500000000000001\">\n          </line>\n          <line x1=\"452.4578596516438\" y1=\"265.8181818181818\" x2=\"452.4578596516438\" y2=\"140.72727272727275\" stroke=\"rgb(228,26,28)\" stroke-opacity=\"1.0\" fill=\"rgb(17,142,216)\" fill-opacity=\"1.0\" stroke-width=\"1.6500000000000001\">\n          </line>\n        </g>\n        <g>\n          <line x1=\"459.68562098793205\" y1=\"203.27272727272728\" x2=\"474.14114366050853\" y2=\"203.27272727272728\" stroke=\"rgb(55,126,184)\" stroke-opacity=\"1.0\" fill=\"rgb(17,142,216)\" fill-opacity=\"1.0\" stroke-width=\"1.6500000000000001\">\n          </line>\n          <line x1=\"459.68562098793205\" y1=\"78.18181818181819\" x2=\"474.14114366050853\" y2=\"78.18181818181819\" stroke=\"rgb(55,126,184)\" stroke-opacity=\"1.0\" fill=\"rgb(17,142,216)\" fill-opacity=\"1.0\" stroke-width=\"1.6500000000000001\">\n          </line>\n          <line x1=\"466.91338232422027\" y1=\"203.27272727272728\" x2=\"466.91338232422027\" y2=\"78.18181818181819\" stroke=\"rgb(55,126,184)\" stroke-opacity=\"1.0\" fill=\"rgb(17,142,216)\" fill-opacity=\"1.0\" stroke-width=\"1.6500000000000001\">\n          </line>\n        </g>\n      </g>\n    </g>\n    <g transform=\"translate(14.5 182.0 ) rotate(-90.0 ) \">\n      <text class=\"axis-title-y\" y=\"0.0\" text-anchor=\"middle\">\n      y\n      </text>\n    </g>\n    <g transform=\"translate(287.8139918102213 391.5 ) \">\n      <text class=\"axis-title-x\" y=\"0.0\" text-anchor=\"middle\">\n      line\n      </text>\n    </g>\n    <g transform=\"translate(540.6667727095062 137.75 ) \">\n      <rect x=\"5.0\" y=\"5.0\" height=\"78.5\" width=\"49.333227290493795\" stroke=\"rgb(71,71,71)\" stroke-opacity=\"1.0\" stroke-width=\"0.0\" fill=\"rgb(255,255,255)\" fill-opacity=\"1.0\">\n      </rect>\n      <g transform=\"translate(10.0 10.0 ) \">\n        <g transform=\"translate(0.0 10.5 ) \">\n          <text class=\"legend-title\" y=\"0.0\">\n          color\n          </text>\n        </g>\n        <g transform=\"translate(0.0 22.5 ) \">\n          <g transform=\"\">\n            <g>\n              <rect x=\"0.0\" y=\"0.0\" height=\"23.0\" width=\"23.0\" stroke-width=\"0.0\" fill=\"rgb(255,255,255)\" fill-opacity=\"1.0\">\n              </rect>\n              <g transform=\"translate(1.0 1.0 ) \">\n                <g>\n                  <line x1=\"6.146249999999999\" y1=\"0.8250000000000001\" x2=\"14.853750000000002\" y2=\"0.8250000000000001\" stroke=\"rgb(228,26,28)\" stroke-opacity=\"1.0\" fill=\"rgb(255,255,255)\" fill-opacity=\"1.0\" stroke-width=\"1.6500000000000001\">\n                  </line>\n                  <line x1=\"6.146249999999999\" y1=\"20.175\" x2=\"14.853750000000002\" y2=\"20.175\" stroke=\"rgb(228,26,28)\" stroke-opacity=\"1.0\" fill=\"rgb(255,255,255)\" fill-opacity=\"1.0\" stroke-width=\"1.6500000000000001\">\n                  </line>\n                  <line x1=\"10.5\" y1=\"0.8250000000000001\" x2=\"10.5\" y2=\"20.175\" stroke=\"rgb(228,26,28)\" stroke-opacity=\"1.0\" fill=\"rgb(255,255,255)\" fill-opacity=\"1.0\" stroke-width=\"1.6500000000000001\">\n                  </line>\n                </g>\n              </g>\n              <rect x=\"0.0\" y=\"0.0\" height=\"23.0\" width=\"23.0\" stroke=\"rgb(255,255,255)\" stroke-opacity=\"1.0\" stroke-width=\"1.0\" fill-opacity=\"0.0\">\n              </rect>\n            </g>\n            <g transform=\"translate(26.9903027277341 16.05 ) \">\n              <text class=\"legend-item\" y=\"0.0\">\n              A\n              </text>\n            </g>\n          </g>\n          <g transform=\"translate(0.0 23.0 ) \">\n            <g>\n              <rect x=\"0.0\" y=\"0.0\" height=\"23.0\" width=\"23.0\" stroke-width=\"0.0\" fill=\"rgb(255,255,255)\" fill-opacity=\"1.0\">\n              </rect>\n              <g transform=\"translate(1.0 1.0 ) \">\n                <g>\n                  <line x1=\"6.146249999999999\" y1=\"0.8250000000000001\" x2=\"14.853750000000002\" y2=\"0.8250000000000001\" stroke=\"rgb(55,126,184)\" stroke-opacity=\"1.0\" fill=\"rgb(255,255,255)\" fill-opacity=\"1.0\" stroke-width=\"1.6500000000000001\">\n                  </line>\n                  <line x1=\"6.146249999999999\" y1=\"20.175\" x2=\"14.853750000000002\" y2=\"20.175\" stroke=\"rgb(55,126,184)\" stroke-opacity=\"1.0\" fill=\"rgb(255,255,255)\" fill-opacity=\"1.0\" stroke-width=\"1.6500000000000001\">\n                  </line>\n                  <line x1=\"10.5\" y1=\"0.8250000000000001\" x2=\"10.5\" y2=\"20.175\" stroke=\"rgb(55,126,184)\" stroke-opacity=\"1.0\" fill=\"rgb(255,255,255)\" fill-opacity=\"1.0\" stroke-width=\"1.6500000000000001\">\n                  </line>\n                </g>\n              </g>\n              <rect x=\"0.0\" y=\"0.0\" height=\"23.0\" width=\"23.0\" stroke=\"rgb(255,255,255)\" stroke-opacity=\"1.0\" stroke-width=\"1.0\" fill-opacity=\"0.0\">\n              </rect>\n            </g>\n            <g transform=\"translate(26.9903027277341 16.05 ) \">\n              <text class=\"legend-item\" y=\"0.0\">\n              B\n              </text>\n            </g>\n          </g>\n        </g>\n      </g>\n    </g>\n    <path fill=\"rgb(0,0,0)\" fill-opacity=\"0.0\" stroke=\"rgb(71,71,71)\" stroke-opacity=\"1.0\" stroke-width=\"0.0\" d=\"M0.0 0.0 L0.0 400.0 L600.0 400.0 L600.0 0.0 Z\">\n    </path>\n  </g>\n  <g id=\"dwvoVYW\">\n  </g>\n</svg>\n        <script>document.getElementById(\"0aebc997-d23a-4209-a57c-5288f4f9270a\").style.display = \"none\";</script>",
      "application/plot+json": {
       "output_type": "lets_plot_spec",
       "output": {
        "mapping": {},
        "data": {
         "high": [
          4.0,
          8.0,
          3.0,
          5.0,
          7.0,
          9.0,
          8.0,
          7.0,
          6.0,
          6.0,
          6.0,
          8.0
         ],
         "&merged_groups": [
          "1",
          "1",
          "2",
          "2",
          "3",
          "3",
          "4",
          "4",
          "5",
          "5",
          "6",
          "6"
         ],
         "color": [
          "A",
          "B",
          "A",
          "B",
          "A",
          "B",
          "A",
          "B",
          "A",
          "B",
          "A",
          "B"
         ],
         "low": [
          2.0,
          6.0,
          2.0,
          4.0,
          5.0,
          7.0,
          2.0,
          3.0,
          6.0,
          4.0,
          2.0,
          4.0
         ],
         "line": [
          1.0,
          1.0,
          2.0,
          2.0,
          3.0,
          3.0,
          4.0,
          4.0,
          5.0,
          5.0,
          6.0,
          6.0
         ]
        },
        "kind": "plot",
        "scales": [
         {
          "aesthetic": "y",
          "limits": [
           0.0,
           10.0
          ]
         },
         {
          "aesthetic": "x",
          "discrete": true,
          "breaks": [
           1.0,
           2.0,
           3.0,
           4.0,
           5.0,
           6.0
          ],
          "format": "d"
         },
         {
          "aesthetic": "color",
          "discrete": true
         }
        ],
        "layers": [
         {
          "mapping": {
           "x": "line",
           "ymin": "low",
           "ymax": "high",
           "color": "color",
           "group": "&merged_groups"
          },
          "stat": "identity",
          "sampling": "none",
          "width": 3.0,
          "position": "dodge",
          "geom": "errorbar"
         }
        ]
       },
       "apply_color_scheme": true,
       "swing_enabled": true
      }
     },
     "execution_count": 15,
     "metadata": {},
     "output_type": "execute_result"
    }
   ],
   "source": [
    "import org.jetbrains.kotlinx.dataframe.api.toDataFrame\n",
    "import org.jetbrains.kotlinx.kandy.dsl.plot\n",
    "import org.jetbrains.kotlinx.kandy.letsplot.layers.errorBars\n",
    "import org.jetbrains.letsPlot.core.spec.back.transform.bistro.util.scale\n",
    "\n",
    "val df = cleaningPairs.toDataFrame()\n",
    "df.println()\n",
    "df.groupBy(\"line\").plot { \n",
    "    errorBars { \n",
    "        x(\"line\")  {axis.breaks((1..6).toList(), format = \"d\")}\n",
    "        yMin(\"low\")\n",
    "        yMax(\"high\")\n",
    "        borderLine {\n",
    "            color(listOf(\"A\", \"B\", \"A\", \"B\", \"A\", \"B\", \"A\", \"B\", \"A\", \"B\", \"A\", \"B\"))\n",
    "             \n",
    "        }\n",
    "        width = 3.0\n",
    "        y.limits = 0..10\n",
    "    }\n",
    "}\n"
   ],
   "metadata": {
    "collapsed": false,
    "ExecuteTime": {
     "end_time": "2024-01-26T08:40:45.914385800Z",
     "start_time": "2024-01-26T08:40:45.559189400Z"
    }
   },
   "execution_count": 15
  }
 ],
 "metadata": {
  "kernelspec": {
   "display_name": "Kotlin",
   "language": "kotlin",
   "name": "kotlin"
  },
  "language_info": {
   "name": "kotlin",
   "version": "1.9.0",
   "mimetype": "text/x-kotlin",
   "file_extension": ".kt",
   "pygments_lexer": "kotlin",
   "codemirror_mode": "text/x-kotlin",
   "nbconvert_exporter": ""
  },
  "ktnbPluginMetadata": {
   "projectDependencies": true
  }
 },
 "nbformat": 4,
 "nbformat_minor": 0
}
